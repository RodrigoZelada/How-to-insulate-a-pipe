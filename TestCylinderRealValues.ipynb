{
 "cells": [
  {
   "cell_type": "code",
   "execution_count": 1,
   "id": "b695e985-e8dc-4765-9551-20657529dade",
   "metadata": {},
   "outputs": [
    {
     "name": "stdout",
     "output_type": "stream",
     "text": [
      "\u001b[38;5;131mff-mpirun -np 8 output/caseCylinderTest/solve.edp -v -1 -nw\u001b[0m\u001b[38;5;6m (16.25s)\u001b[0m\n",
      "\u001b[38;5;131mFreeFem++ output/caseCylinderTest/interpolate_ns.edp -v -1 -nw\u001b[0m\u001b[38;5;6m (7.74s)\u001b[0m\n",
      "tau = 0, thetay(1,1,1) = -0\n",
      "  0 KSP Residual norm 1.168579237596e+04\n",
      "  1 KSP Residual norm 2.918983915018e-10\n",
      "Text = 0, int2d = 146.166\n",
      "  0 KSP Residual norm 4.777742835881e+03\n",
      "  1 KSP Residual norm 9.741798663620e-11\n",
      "\u001b[38;5;131mff-mpirun -np 8 output/caseCylinderTest/sensitivities.edp -v -1 -nw\u001b[0m"
     ]
    },
    {
     "name": "stderr",
     "output_type": "stream",
     "text": [
      "3820.48user 7.05system 1:03:48elapsed 99%CPU (0avgtext+0avgdata 6961216maxresident)k\n",
      "43080inputs+71424outputs (163major+2739021minor)pagefaults 0swaps\n"
     ]
    },
    {
     "name": "stdout",
     "output_type": "stream",
     "text": [
      "\u001b[38;5;6m (33.56s)\u001b[0m\n",
      "\u001b[38;5;131mff-mpirun -np 8 output/caseCylinderTest/solve.edp -v -1 -nw\u001b[0m\u001b[38;5;6m (22.15s)\u001b[0m\n",
      "\u001b[38;5;131mFreeFem++ output/caseCylinderTest/interpolate_ns.edp -v -1 -nw\u001b[0m\u001b[38;5;6m (8.39s)\u001b[0m\n",
      "tau = 0.001, thetay(1,1,1) = -0.000707107\n",
      "  0 KSP Residual norm 1.169448984470e+04\n",
      "  1 KSP Residual norm 1.195070117386e-10\n",
      "Text = 0, int2d = 145.332\n",
      "  0 KSP Residual norm 4.772361309407e+03\n",
      "  1 KSP Residual norm 5.630513579576e-11\n",
      "t=-3.0,Jt=145.33228,J=146.16566,Jt-J=-0.8333800000000053,der=-0.8307361999499322,delta1=-2.577771393525862\n",
      "t=-3.0,Jt=145.33228,J=146.16566,Jt-J=-0.8333800000000053,der=-0.8307361999499322,delta2=-2.577771393525862\n",
      "\u001b[38;5;131mff-mpirun -np 8 output/caseCylinderTest/solve.edp -v -1 -nw\u001b[0m"
     ]
    },
    {
     "name": "stderr",
     "output_type": "stream",
     "text": [
      "3513.45user 7.26system 58:41.43elapsed 99%CPU (0avgtext+0avgdata 6961248maxresident)k\n",
      "0inputs+71424outputs (1major+2739087minor)pagefaults 0swaps\n"
     ]
    },
    {
     "name": "stdout",
     "output_type": "stream",
     "text": [
      "\u001b[38;5;6m (16.54s)\u001b[0m\n",
      "\u001b[38;5;131mFreeFem++ output/caseCylinderTest/interpolate_ns.edp -v -1 -nw\u001b[0m\u001b[38;5;6m (7.68s)\u001b[0m\n",
      "tau = 0.00158489, thetay(1,1,1) = -0.00112069\n",
      "  0 KSP Residual norm 1.169957955910e+04\n",
      "  1 KSP Residual norm 1.008721776986e-10\n",
      "Text = 0, int2d = 144.843\n",
      "  0 KSP Residual norm 4.769155159115e+03\n",
      "  1 KSP Residual norm 5.788091295034e-11\n",
      "t=-2.8,Jt=144.84256,J=146.16566,Jt-J=-1.3231000000000108,der=-1.3166281480316624,delta1=-2.1889714249657266\n",
      "t=-2.8,Jt=144.84256,J=146.16566,Jt-J=-1.3231000000000108,der=-1.3166281480316624,delta2=-2.1889714249657266\n",
      "\u001b[38;5;131mff-mpirun -np 8 output/caseCylinderTest/solve.edp -v -1 -nw\u001b[0m"
     ]
    },
    {
     "name": "stderr",
     "output_type": "stream",
     "text": [
      "2846.96user 6.47system 47:33.99elapsed 99%CPU (0avgtext+0avgdata 6962940maxresident)k\n",
      "0inputs+71424outputs (1major+2739347minor)pagefaults 0swaps\n"
     ]
    },
    {
     "name": "stdout",
     "output_type": "stream",
     "text": [
      "\u001b[38;5;6m (16.31s)\u001b[0m\n",
      "\u001b[38;5;131mFreeFem++ output/caseCylinderTest/interpolate_ns.edp -v -1 -nw\u001b[0m\u001b[38;5;6m (7.73s)\u001b[0m\n",
      "tau = 0.00251189, thetay(1,1,1) = -0.00177617\n",
      "  0 KSP Residual norm 1.170764987490e+04\n",
      "  1 KSP Residual norm 3.682362202722e-10\n",
      "Text = 0, int2d = 144.063\n",
      "  0 KSP Residual norm 4.763983838599e+03\n",
      "  1 KSP Residual norm 3.707554013512e-11\n",
      "t=-2.5999999999999996,Jt=144.06292,J=146.16566,Jt-J=-2.1027400000000114,der=-2.086714988818066,delta1=-1.7952016587666768\n",
      "t=-2.5999999999999996,Jt=144.06292,J=146.16566,Jt-J=-2.1027400000000114,der=-2.086714988818066,delta2=-1.7952016587666768\n",
      "\u001b[38;5;131mff-mpirun -np 8 output/caseCylinderTest/solve.edp -v -1 -nw\u001b[0m"
     ]
    },
    {
     "name": "stderr",
     "output_type": "stream",
     "text": [
      "2838.38user 6.44system 47:25.37elapsed 99%CPU (0avgtext+0avgdata 6962824maxresident)k\n",
      "0inputs+71416outputs (1major+2739335minor)pagefaults 0swaps\n"
     ]
    },
    {
     "name": "stdout",
     "output_type": "stream",
     "text": [
      "\u001b[38;5;6m (16.11s)\u001b[0m\n",
      "\u001b[38;5;131mFreeFem++ output/caseCylinderTest/interpolate_ns.edp -v -1 -nw\u001b[0m\u001b[38;5;6m (7.49s)\u001b[0m\n",
      "tau = 0.00398107, thetay(1,1,1) = -0.00281504\n",
      "  0 KSP Residual norm 1.172044871565e+04\n",
      "  1 KSP Residual norm 9.642307496047e-11\n",
      "Text = 0, int2d = 142.818\n",
      "  0 KSP Residual norm 4.755557649451e+03\n",
      "  1 KSP Residual norm 3.119983960110e-11\n",
      "t=-2.3999999999999995,Jt=142.81846,J=146.16566,Jt-J=-3.347200000000015,der=-3.3072203803843228,delta1=-1.398161342273723\n",
      "t=-2.3999999999999995,Jt=142.81846,J=146.16566,Jt-J=-3.347200000000015,der=-3.3072203803843228,delta2=-1.398161342273723\n",
      "\u001b[38;5;131mff-mpirun -np 8 output/caseCylinderTest/solve.edp -v -1 -nw\u001b[0m"
     ]
    },
    {
     "name": "stderr",
     "output_type": "stream",
     "text": [
      "2818.89user 6.47system 47:05.93elapsed 99%CPU (0avgtext+0avgdata 6962708maxresident)k\n",
      "0inputs+71424outputs (1major+2739342minor)pagefaults 0swaps\n"
     ]
    },
    {
     "name": "stdout",
     "output_type": "stream",
     "text": [
      "\u001b[38;5;6m (16.17s)\u001b[0m\n",
      "\u001b[38;5;131mFreeFem++ output/caseCylinderTest/interpolate_ns.edp -v -1 -nw\u001b[0m\u001b[38;5;6m (7.56s)\u001b[0m\n",
      "tau = 0.00630957, thetay(1,1,1) = -0.00446154\n",
      "  0 KSP Residual norm 1.174075026696e+04\n",
      "  1 KSP Residual norm 1.657319900952e-10\n",
      "Text = 0, int2d = 140.824\n",
      "  0 KSP Residual norm 4.741606924026e+03\n",
      "  1 KSP Residual norm 9.193333026198e-11\n",
      "t=-2.1999999999999993,Jt=140.82365,J=146.16566,Jt-J=-5.342010000000016,der=-5.241591066839769,delta1=-0.9981843968341958\n",
      "t=-2.1999999999999993,Jt=140.82365,J=146.16566,Jt-J=-5.342010000000016,der=-5.241591066839769,delta2=-0.9981843968341958\n",
      "\u001b[38;5;131mff-mpirun -np 8 output/caseCylinderTest/solve.edp -v -1 -nw\u001b[0m"
     ]
    },
    {
     "name": "stderr",
     "output_type": "stream",
     "text": [
      "2810.85user 6.49system 46:57.90elapsed 99%CPU (0avgtext+0avgdata 6962820maxresident)k\n",
      "0inputs+71408outputs (1major+2739343minor)pagefaults 0swaps\n"
     ]
    },
    {
     "name": "stdout",
     "output_type": "stream",
     "text": [
      "\u001b[38;5;6m (16.32s)\u001b[0m\n",
      "\u001b[38;5;131mFreeFem++ output/caseCylinderTest/interpolate_ns.edp -v -1 -nw\u001b[0m\u001b[38;5;6m (7.58s)\u001b[0m\n",
      "tau = 0.01, thetay(1,1,1) = -0.00707107\n",
      "  0 KSP Residual norm 1.177295093748e+04\n",
      "  1 KSP Residual norm 1.687937308679e-10\n",
      "Text = 0, int2d = 137.604\n",
      "  0 KSP Residual norm 4.717923953595e+03\n",
      "  1 KSP Residual norm 7.893795860567e-11\n",
      "t=-1.9999999999999991,Jt=137.6043,J=146.16566,Jt-J=-8.561360000000008,der=-8.307361999499339,delta1=-0.595169702179054\n",
      "t=-1.9999999999999991,Jt=137.6043,J=146.16566,Jt-J=-8.561360000000008,der=-8.307361999499339,delta2=-0.595169702179054\n",
      "\u001b[38;5;131mff-mpirun -np 8 output/caseCylinderTest/solve.edp -v -1 -nw\u001b[0m"
     ]
    },
    {
     "name": "stderr",
     "output_type": "stream",
     "text": [
      "2798.00user 6.39system 46:44.94elapsed 99%CPU (0avgtext+0avgdata 6962808maxresident)k\n",
      "0inputs+71424outputs (1major+2739343minor)pagefaults 0swaps\n"
     ]
    },
    {
     "name": "stdout",
     "output_type": "stream",
     "text": [
      "\u001b[38;5;6m (15.95s)\u001b[0m\n",
      "\u001b[38;5;131mFreeFem++ output/caseCylinderTest/interpolate_ns.edp -v -1 -nw\u001b[0m\u001b[38;5;6m (7.55s)\u001b[0m\n",
      "tau = 0.0158489, thetay(1,1,1) = -0.0112069\n",
      "  0 KSP Residual norm 1.182396957645e+04\n",
      "  1 KSP Residual norm 1.096533811116e-10\n",
      "Text = 0, int2d = 132.351\n",
      "  0 KSP Residual norm 4.676111636480e+03\n",
      "  1 KSP Residual norm 3.284115939938e-11\n",
      "t=-1.799999999999999,Jt=132.35112,J=146.16566,Jt-J=-13.814539999999994,der=-13.16628148031665,delta1=-0.1882517668422209\n",
      "t=-1.799999999999999,Jt=132.35112,J=146.16566,Jt-J=-13.814539999999994,der=-13.16628148031665,delta2=-0.1882517668422209\n",
      "\u001b[38;5;131mff-mpirun -np 8 output/caseCylinderTest/solve.edp -v -1 -nw\u001b[0m"
     ]
    },
    {
     "name": "stderr",
     "output_type": "stream",
     "text": [
      "2787.28user 6.45system 46:34.28elapsed 99%CPU (0avgtext+0avgdata 6962696maxresident)k\n",
      "0inputs+71416outputs (1major+2739334minor)pagefaults 0swaps\n"
     ]
    },
    {
     "name": "stdout",
     "output_type": "stream",
     "text": [
      "\u001b[38;5;6m (16.46s)\u001b[0m\n",
      "\u001b[38;5;131mFreeFem++ output/caseCylinderTest/interpolate_ns.edp -v -1 -nw\u001b[0m\u001b[38;5;6m (7.61s)\u001b[0m\n",
      "tau = 0.0251189, thetay(1,1,1) = -0.0177617\n",
      "  0 KSP Residual norm 1.190439840903e+04\n",
      "  1 KSP Residual norm 1.784360147788e-10\n",
      "Text = 0, int2d = 123.621\n",
      "  0 KSP Residual norm 4.597587145560e+03\n",
      "  1 KSP Residual norm 3.347555749738e-11\n",
      "t=-1.5999999999999988,Jt=123.6214,J=146.16566,Jt-J=-22.54426000000001,der=-20.867149888180702,delta1=0.22456157744545596\n",
      "t=-1.5999999999999988,Jt=123.6214,J=146.16566,Jt-J=-22.54426000000001,der=-20.867149888180702,delta2=0.22456157744545596\n",
      "\u001b[38;5;131mff-mpirun -np 8 output/caseCylinderTest/solve.edp -v -1 -nw\u001b[0m"
     ]
    },
    {
     "name": "stderr",
     "output_type": "stream",
     "text": [
      "2774.49user 6.46system 46:21.50elapsed 99%CPU (0avgtext+0avgdata 6962760maxresident)k\n",
      "0inputs+71416outputs (1major+2739344minor)pagefaults 0swaps\n"
     ]
    },
    {
     "name": "stdout",
     "output_type": "stream",
     "text": [
      "\u001b[38;5;6m (15.97s)\u001b[0m\n",
      "\u001b[38;5;131mFreeFem++ output/caseCylinderTest/interpolate_ns.edp -v -1 -nw\u001b[0m\u001b[38;5;6m (7.44s)\u001b[0m\n",
      "tau = 0.0398107, thetay(1,1,1) = -0.0281504\n",
      "  0 KSP Residual norm 1.202852997537e+04\n",
      "  1 KSP Residual norm 2.127972457256e-10\n",
      "Text = 0, int2d = 108.65\n",
      "  0 KSP Residual norm 4.434537507602e+03\n",
      "  1 KSP Residual norm 6.302940877659e-11\n",
      "t=-1.3999999999999986,Jt=108.64981,J=146.16566,Jt-J=-37.51585,der=-33.07220380384329,delta1=0.6477394730470313\n",
      "t=-1.3999999999999986,Jt=108.64981,J=146.16566,Jt-J=-37.51585,der=-33.07220380384329,delta2=0.6477394730470313\n",
      "\u001b[38;5;131mff-mpirun -np 8 output/caseCylinderTest/solve.edp -v -1 -nw\u001b[0m"
     ]
    },
    {
     "name": "stderr",
     "output_type": "stream",
     "text": [
      "2767.95user 6.38system 46:14.89elapsed 99%CPU (0avgtext+0avgdata 6962864maxresident)k\n",
      "0inputs+71416outputs (1major+2739349minor)pagefaults 0swaps\n"
     ]
    },
    {
     "name": "stdout",
     "output_type": "stream",
     "text": [
      "\u001b[38;5;6m (15.99s)\u001b[0m\n",
      "\u001b[38;5;131mFreeFem++ output/caseCylinderTest/interpolate_ns.edp -v -1 -nw\u001b[0m\u001b[38;5;6m (7.55s)\u001b[0m\n",
      "tau = 0.0630957, thetay(1,1,1) = -0.0446154\n",
      "  0 KSP Residual norm 1.219898485015e+04\n",
      "  1 KSP Residual norm 1.575953694312e-10\n",
      "Text = 0, int2d = 81.3408\n",
      "  0 KSP Residual norm 4.027738584986e+03\n",
      "  1 KSP Residual norm 1.004769619079e-10\n",
      "t=-1.1999999999999984,Jt=81.340804,J=146.16566,Jt-J=-64.824856,der=-52.41591066839779,delta1=1.0937348712545953\n",
      "t=-1.1999999999999984,Jt=81.340804,J=146.16566,Jt-J=-64.824856,der=-52.41591066839779,delta2=1.0937348712545953\n",
      "\u001b[38;5;131mff-mpirun -np 8 output/caseCylinderTest/solve.edp -v -1 -nw\u001b[0m"
     ]
    },
    {
     "name": "stderr",
     "output_type": "stream",
     "text": [
      "2756.69user 6.44system 46:03.69elapsed 99%CPU (0avgtext+0avgdata 6962712maxresident)k\n",
      "0inputs+71416outputs (1major+2739350minor)pagefaults 0swaps\n"
     ]
    },
    {
     "name": "stdout",
     "output_type": "stream",
     "text": [
      "\u001b[38;5;6m (15.94s)\u001b[0m\n",
      "\u001b[38;5;131mFreeFem++ output/caseCylinderTest/interpolate_ns.edp -v -1 -nw\u001b[0m\u001b[38;5;6m (7.48s)\u001b[0m\n",
      "tau = 0.1, thetay(1,1,1) = -0.0707107\n",
      "  0 KSP Residual norm 1.189247168105e+04\n",
      "  1 KSP Residual norm 6.821772292562e-10\n",
      "Text = 0, int2d = 15.3423\n",
      "  0 KSP Residual norm 1.911432499415e+03\n",
      "  1 KSP Residual norm 1.555387822593e-11\n",
      "t=-0.9999999999999982,Jt=15.342283,J=146.16566,Jt-J=-130.823377,der=-83.07361999499355,delta1=1.678971165832784\n",
      "t=-0.9999999999999982,Jt=15.342283,J=146.16566,Jt-J=-130.823377,der=-83.07361999499355,delta2=1.678971165832784\n"
     ]
    },
    {
     "name": "stderr",
     "output_type": "stream",
     "text": [
      "2756.10user 6.45system 46:03.11elapsed 99%CPU (0avgtext+0avgdata 6962812maxresident)k\n",
      "0inputs+71472outputs (1major+2739338minor)pagefaults 0swaps\n"
     ]
    }
   ],
   "source": [
    "from pyfreefem import FreeFemRunner, readFFArray\n",
    "from nullspace_optimizer import Optimizable, nlspace_solve\n",
    "from pymedit import Mesh, P1Function, trunc, Mesh3D, cube, mmg3d, generate3DMesh, P1Function3D, trunc3DMesh\n",
    "from pymedit import saveToVtk, advect, P1Vector3D, mshdist\n",
    "import numpy as np\n",
    "import shutil\n",
    "import pandas as pd\n",
    "\n",
    "output='output/caseCylinderTest' #1\n",
    "import os\n",
    "os.makedirs(output,exist_ok=True)\n",
    "\n",
    "config={'OUTPUT':output}\n",
    "\n",
    "N=8 #number of cores\n",
    "i = format(0,'04d')\n",
    "meshes='output'\n",
    "M = Mesh3D(meshes+\"/ThCoarse.mesh\")\n",
    "M.save(output+\"/Th00.mesh\")\n",
    "\n",
    "preamble=\"\"\"\n",
    "func int readSolFile(mesh & Th, string fileName, real[int] & phi){\n",
    "    ifstream f(fileName);\n",
    "    string dummy=\"\";\n",
    "    while(dummy(0:2)!=\"Sol\"){\n",
    "        f>>dummy;\n",
    "    }\n",
    "    int n;\n",
    "    f >> n;\n",
    "    if(n!=Th.nv){\n",
    "        cout << \"Error : the number of vertices in the file \"+fileName+\" does not correspond to the mesh in memory\"<< endl;\n",
    "        exit(1);\n",
    "    }\n",
    "    f >> dummy;\n",
    "    f >> dummy;\n",
    "    for(int i=0;i<Th.nv;i++){\n",
    "        f>>phi[i];\n",
    "    }\n",
    "}\n",
    "\n",
    "func int saveArray(string fileName, real[int] &value){\n",
    "    ofstream file(fileName);\n",
    "    file.precision(16);\n",
    "    file << value;\n",
    "}\n",
    "\n",
    "func int readData(string fileName, real[int] &data){\n",
    "    {\n",
    "        ifstream f(fileName);\n",
    "        f>>data;\n",
    "    }\n",
    "}\n",
    "\n",
    "include \"macros.edp\"\n",
    "load \"medit\"\n",
    "load \"msh3\"\n",
    "load \"iovtk\"\n",
    "\n",
    "int region1 = 20; //interior circle\n",
    "int region2 = 3; //exterior donuts\n",
    "int empty = 2;\n",
    "real k1=0.15;\n",
    "real k2=0.1; //0.1*1e-6; //thermal diffusivity D or alpha of rubber;\n",
    "real rhocp=1e2;\n",
    "real vtarget=0.0942477796; \n",
    "real nu = 1e-2; //1e-3; //1e-6\n",
    "real beta=2e1;//2e1; //1e2\n",
    "\"\"\"\n",
    "\n",
    "mesh_code='''\n",
    "load \"PETSc\"\n",
    "macro dimension()3 //EOM\n",
    "include \"macro_ddm.idp\"\n",
    "\n",
    "mesh3 ThBox=readmesh3(\"$OUTPUT/Th00.mesh\");\n",
    "savevtk(\"$OUTPUT/ThBox.vtu\",ThBox);\n",
    "mesh3 Th=trunc(ThBox, ((region == region1) || (region == region2)));\n",
    "savemesh(Th,\"$OUTPUT/Th.mesh\");\n",
    "{\n",
    "    ofstream f(\"$OUTPUT/V.gp\");\n",
    "    f.precision(16);\n",
    "    f << int3d(Th,region2,qforder=1)(1.) - vtarget  << endl;\n",
    "}\n",
    "'''\n",
    "\n",
    "solve_kappa = \"\"\"\n",
    "mesh3 ThGlobal = Th;\n",
    "\n",
    "int[int] n2o;\n",
    "macro ThN2O() n2o // this tells buildDmesh to keep the local to global correspondence\n",
    "buildDmesh(Th)\n",
    "\n",
    "fespace PhGlobal(ThGlobal, P1);\n",
    "\n",
    "PhGlobal kappaGlobal, kappasum, dOmegaGlobal, nx, ny, nz;\n",
    "\n",
    "if (mpirank==0){\n",
    "    //save the solution\n",
    "    kappasum = 1./0.1;\n",
    "    savesol(\"$OUTPUT/kappa.sol\",ThGlobal,kappasum);\n",
    "}\n",
    "\n",
    "\n",
    "\"\"\"\n",
    "\n",
    "interpolate_ns=\"\"\"\n",
    "                mesh3 ThBox=readmesh3(\"$OUTPUT/Th.mesh\");\n",
    "                mesh3 Th=trunc(ThBox, ((region == region1) || (region == region2)));\n",
    "                mesh3 Th1=trunc(Th, (region == region1));\n",
    "                savemesh(Th,\"$OUTPUT/Th.mesh\");\n",
    "\n",
    "                fespace Phnew(Th1, [P2,P2,P2,P1]);\n",
    "                Phnew [uxnew,uynew,uznew,pnew];\n",
    "\n",
    "                [uxnew,uynew,uznew,pnew] = [(0.1^2 - (y-0.5)^2 - (z-0.5)^2)/0.01,0.,0.,0.];\n",
    "                savesol(\"$OUTPUT/ux.sol\",Th1,uxnew);\n",
    "                savesol(\"$OUTPUT/uy.sol\",Th1,uynew);\n",
    "                savesol(\"$OUTPUT/uz.sol\",Th1,uznew);\n",
    "            \"\"\"\n",
    "\n",
    "\n",
    "def computeU(mesh,t):\n",
    "    FreeFemRunner([preamble, mesh_code, solve_kappa],config,run_dir=output,run_file='solve.edp',debug=1).execute({'MESH':mesh},ncpu=N)\n",
    "    FreeFemRunner([preamble, interpolate_ns],config,run_dir=output,run_file='interpolate_ns.edp',debug=1).execute({'MESH':mesh})\n",
    "    os.system(f\"time mpiexec -n 1 ./MatrixBinaryPetscTP2RealValues {output} {t} -pc_type lu -pc_factor_mat_solver_type superlu_dist -ksp_monitor \")\n",
    "    \n",
    "    with open(output+'/J.gp','r') as f:\n",
    "        J = float(f.readlines()[0])\n",
    "    with open(output+'/V.gp','r') as f:\n",
    "        V = float(f.readlines()[0])\n",
    "    return (J,V)\n",
    "\n",
    "code_sensitivity=r\"\"\"\n",
    "load \"PETSc\"\n",
    "macro dimension()3 //EOM\n",
    "include \"macro_ddm.idp\"\n",
    "\n",
    "mesh3 ThBox=readmesh3(\"$MESH\");\n",
    "mesh3 ThBoxGlobal = ThBox;\n",
    "mesh3 Th2 = readmesh3(\"$OUTPUT/Th2.mesh\");\n",
    "\n",
    "int[int] n2oBox;\n",
    "macro ThBoxN2O() n2oBox // this tells buildDmesh to keep the local to global correspondence\n",
    "buildDmesh(ThBox)\n",
    "\n",
    "// Variational space\n",
    "fespace Ph2(Th2, P1);\n",
    "fespace PhBox(ThBoxGlobal, P1);\n",
    "\n",
    "PhBox dOmegaBox,kappaP1,nx3,ny3,nz3,thetax2,thetay2,thetaz2;\n",
    "Ph2 T2,R2,T0;\n",
    "\n",
    "T2[] = readsol(\"$OUTPUT/T2.sol\");\n",
    "R2[] = readsol(\"$OUTPUT/R2.sol\");\n",
    "T0 = 0.;\n",
    "\n",
    "if (mpirank==0){\n",
    "    int[int] Order = [1];\n",
    "    string DataName = \"T\";\n",
    "    savevtk(\"$OUTPUT/T.vtu\",Th2,T2,dataname=DataName, order=Order);\n",
    "    //savevtk(\"$OUTPUT/R.vtu\",Th2,R2);\n",
    "}\n",
    "\n",
    "if (mpirank==0){\n",
    "    nx3 = 0.; ny3=(y-0.5)/sqrt((y-0.5)^2+(z-0.5)^2); nz3 = (z-0.5)/sqrt((y-0.5)^2+(z-0.5)^2);\n",
    "    thetax2 = -nx3; thetay2 = -ny3; thetaz2 = -nz3;\n",
    "    kappaP1 = 1./sqrt((y-0.5)^2+(z-0.5)^2);\n",
    "\n",
    "    PhBox  dxthetax, dythetax, dzthetax, dxthetay, dythetay, dzthetay, dxthetaz, dythetaz, dzthetaz;\n",
    "\n",
    "    dxthetax = 0.;\n",
    "    dythetax = 0.;\n",
    "    dzthetax = 0.;\n",
    "    \n",
    "    dxthetay = 0.;\n",
    "    dythetay = -(z-0.5)^2/((y-0.5)^2 + (z-0.5)^2)^1.5;\n",
    "    dzthetay = ((y-0.5)*(z-0.5))/((y-0.5)^2 + (z-0.5)^2)^1.5;\n",
    "    \n",
    "    dxthetaz = 0.;\n",
    "    dythetaz = ((y-0.5)*(z-0.5))/((y-0.5)^2 + (z-0.5)^2)^1.5;\n",
    "    dzthetaz = -(y-0.5)^2/((y-0.5)^2 + (z-0.5)^2)^1.5;\n",
    "    \n",
    "    //volume\n",
    "    real val1 = int2d(ThBoxGlobal,10,qforder=3)((dxthetax+dythetay+dzthetaz - tr(MatrixByVector([dxthetax,dythetax,dzthetax,\n",
    "                                                                                       dxthetay,dythetay,dzthetay,\n",
    "                                                                                       dxthetaz,dythetaz,dzthetaz],[nx3,ny3,nz3]))*[nx3,ny3,nz3] )*(beta^2*T2^2 - beta*T2*R2))\n",
    "                +int3d(ThBoxGlobal,region2,qforder=3)(-(dxthetax+dythetay+dzthetaz)*k2*tr(grad(T2))*grad(R2) + k2*tr(grad(R2))*MatrixByVector([2.*dxthetax,dxthetay+dythetax,dxthetaz+dzthetax,\n",
    "                                                                                                                                     dythetax+dxthetay, 2.*dythetay,dythetaz+dzthetay,\n",
    "                                                                                                                                     dzthetax+dxthetaz,dzthetay+dythetaz,2.*dzthetaz], grad(T2)));\n",
    "\n",
    "    //volume\n",
    "    real val2 = int2d(ThBoxGlobal,10,qforder=3)((dxthetax+dythetay+dzthetaz - tr(MatrixByVector([dxthetax,dythetax,dzthetax,\n",
    "                                                                                       dxthetay,dythetay,dzthetay,\n",
    "                                                                                       dxthetaz,dythetaz,dzthetaz],[nx3,ny3,nz3]))*[nx3,ny3,nz3] )*(beta^2*T2^2 - beta*T2*R2))\n",
    "                +int3d(ThBoxGlobal,region2,qforder=3)(-(dxthetax+dythetay+dzthetaz)*k2*tr(grad(T2))*grad(R2) + k2*tr(grad(R2))*MatrixByVector([2.*dxthetax,dxthetay+dythetax,dxthetaz+dzthetax,\n",
    "                                                                                                                                     dythetax+dxthetay, 2.*dythetay,dythetaz+dzthetay,\n",
    "                                                                                                                                     dzthetax+dxthetaz,dzthetay+dythetaz,2.*dzthetaz], grad(T2)));\n",
    "                                                                                                                                     \n",
    "    {\n",
    "        ofstream f(\"$OUTPUT/val1.gp\");\n",
    "        f.precision(16);\n",
    "        f << val1  << endl;\n",
    "    }\n",
    "    {\n",
    "        ofstream f(\"$OUTPUT/val2.gp\");\n",
    "        f.precision(16);\n",
    "        f << val2  << endl;\n",
    "    }\n",
    "}\n",
    "\n",
    "\"\"\"\n",
    "def sensitivity(mesh):\n",
    "    FreeFemRunner([preamble,code_sensitivity],config,run_dir=output,run_file='sensitivities.edp',debug=1).execute(config={'MESH':mesh},ncpu=N)\n",
    "\n",
    "    with open(output+'/val1.gp','r') as f:\n",
    "        val1 = float(f.readlines()[0])\n",
    "    with open(output+'/val2.gp','r') as f:\n",
    "        val2 = float(f.readlines()[0])\n",
    "    return (val1,val2)\n",
    "\n",
    "import matplotlib.pyplot as plt\n",
    "\n",
    "## Initial solution and J ##\n",
    "mesh0 = output+\"/Th00.mesh\"\n",
    "(J,V) = computeU(mesh0,0)\n",
    "(val1,val2) = sensitivity(mesh0)\n",
    "\n",
    "T = 10.**np.arange(-3,-0.8,0.2)\n",
    "delta1 = []\n",
    "delta2 = []\n",
    "for t in T:\n",
    "    (Jt,Vt) = computeU(mesh0,t)\n",
    "\n",
    "    d1 = np.abs(Jt - J - t*val1)\n",
    "    print(f\"t={np.log10(t)},Jt={Jt},J={J},Jt-J={Jt-J},der={t*val1},delta1={np.log10(d1)}\")\n",
    "    delta1.append(d1)\n",
    "\n",
    "    open(output+'/delta1.txt', 'w').close()\n",
    "    df = pd.DataFrame(data=np.array(delta1),columns=['delta1'])\n",
    "    df.to_csv(output+'/delta1.txt', header=None, index=None, sep=' ', mode='a')\n",
    "\n",
    "\n",
    "    d2 = np.abs(Jt - J - t*val2)\n",
    "    print(f\"t={np.log10(t)},Jt={Jt},J={J},Jt-J={Jt-J},der={t*val2},delta2={np.log10(d2)}\")\n",
    "    delta2.append(d2)\n",
    "\n",
    "    open(output+'/delta2.txt', 'w').close()\n",
    "    df = pd.DataFrame(data=np.array(delta2),columns=['delta2'])\n",
    "    df.to_csv(output+'/delta2.txt', header=None, index=None, sep=' ', mode='a')"
   ]
  },
  {
   "cell_type": "code",
   "execution_count": 2,
   "id": "b501759e-520f-4cd6-86c7-e65386a64028",
   "metadata": {},
   "outputs": [
    {
     "name": "stderr",
     "output_type": "stream",
     "text": [
      "<>:3: SyntaxWarning: invalid escape sequence '\\d'\n",
      "<>:9: SyntaxWarning: invalid escape sequence '\\d'\n",
      "<>:3: SyntaxWarning: invalid escape sequence '\\d'\n",
      "<>:9: SyntaxWarning: invalid escape sequence '\\d'\n",
      "/tmp/ipykernel_10675/2421540638.py:3: SyntaxWarning: invalid escape sequence '\\d'\n",
      "  plt.ylabel('$\\delta(t)$')\n",
      "/tmp/ipykernel_10675/2421540638.py:9: SyntaxWarning: invalid escape sequence '\\d'\n",
      "  plt.ylabel('$\\delta(t)$')\n"
     ]
    },
    {
     "data": {
      "image/png": "[encoded data removed]",
      "text/plain": [
       "<Figure size 640x480 with 1 Axes>"
      ]
     },
     "metadata": {},
     "output_type": "display_data"
    },
    {
     "data": {
      "image/png": "[encoded data removed]",
      "text/plain": [
       "<Figure size 640x480 with 1 Axes>"
      ]
     },
     "metadata": {},
     "output_type": "display_data"
    }
   ],
   "source": [
    "plt.plot(np.log10(T),np.log10(delta1),'-o')\n",
    "plt.xlabel('$t$')\n",
    "plt.ylabel('$\\delta(t)$')\n",
    "plt.savefig(output+'/SurfaceShapeDerivativeValidation.png')\n",
    "\n",
    "plt.figure()\n",
    "plt.plot(np.log10(T),np.log10(delta2),'-o')\n",
    "plt.xlabel('$t$')\n",
    "plt.ylabel('$\\delta(t)$')\n",
    "plt.savefig(output+'/VolumeShapeDerivativeValidation.png')"
   ]
  },
  {
   "cell_type": "code",
   "execution_count": 3,
   "id": "fcf1dfa5-8de5-48db-be4c-0d3c498d0da3",
   "metadata": {},
   "outputs": [
    {
     "name": "stdout",
     "output_type": "stream",
     "text": [
      "order surface = 2.081760902115724\n",
      "order volume = 2.081760902115724\n"
     ]
    }
   ],
   "source": [
    "from sklearn.linear_model import LinearRegression\n",
    "\n",
    "X = np.log10(T).reshape(-1, 1) \n",
    "y = np.log10(delta1)\n",
    "reg = LinearRegression().fit(X, y)\n",
    "order1 = reg.coef_[0]\n",
    "print(f\"order surface = {order1}\")\n",
    "\n",
    "X = np.log10(T).reshape(-1, 1) \n",
    "y = np.log10(delta2)\n",
    "reg = LinearRegression().fit(X, y)\n",
    "order2 = reg.coef_[0]\n",
    "print(f\"order volume = {order2}\")"
   ]
  }
 ],
 "metadata": {
  "kernelspec": {
   "display_name": "Python 3 (ipykernel)",
   "language": "python",
   "name": "python3"
  },
  "language_info": {
   "codemirror_mode": {
    "name": "ipython",
    "version": 3
   },
   "file_extension": ".py",
   "mimetype": "text/x-python",
   "name": "python",
   "nbconvert_exporter": "python",
   "pygments_lexer": "ipython3",
   "version": "3.12.4"
  }
 },
 "nbformat": 4,
 "nbformat_minor": 5
}
